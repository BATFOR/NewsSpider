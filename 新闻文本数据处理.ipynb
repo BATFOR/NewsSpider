{
 "cells": [
  {
   "cell_type": "markdown",
   "id": "enclosed-chassis",
   "metadata": {},
   "source": [
    "本文件将互联网上爬取来的文章（包含图片），通过NLP工具（LAC）对其进行NER标注处理，最终生成NE字典文件，标注好的训练数据"
   ]
  },
  {
   "cell_type": "code",
   "execution_count": 8,
   "id": "freelance-partnership",
   "metadata": {},
   "outputs": [
    {
     "ename": "ImportError",
     "evalue": "\n\nIMPORTANT: PLEASE READ THIS FOR ADVICE ON HOW TO SOLVE THIS ISSUE!\n\nImporting the numpy c-extensions failed.\n- Try uninstalling and reinstalling numpy.\n- If you have already done that, then:\n  1. Check that you expected to use Python3.7 from \"D:\\Users\\Administrator\\Anaconda3\\envs\\pytorch15\\python.exe\",\n     and that you have no directories in your PATH or PYTHONPATH that can\n     interfere with the Python and numpy version \"1.17.4\" you're trying to use.\n  2. If (1) looks fine, you can open a new issue at\n     https://github.com/numpy/numpy/issues.  Please include details on:\n     - how you installed Python\n     - how you installed numpy\n     - your operating system\n     - whether or not you have multiple versions of Python installed\n     - if you built from source, your compiler versions and ideally a build log\n\n- If you're working with a numpy git repository, try `git clean -xdf`\n  (removes all files not under version control) and rebuild numpy.\n\nNote: this error has many possible causes, so please don't comment on\nan existing issue about this - open a new one instead.\n\nOriginal error was: DLL load failed: 找不到指定的模块。\n",
     "output_type": "error",
     "traceback": [
      "\u001B[1;31m---------------------------------------------------------------------------\u001B[0m",
      "\u001B[1;31mImportError\u001B[0m                               Traceback (most recent call last)",
      "\u001B[1;32mD:\\Users\\Administrator\\Anaconda3\\envs\\pytorch15\\lib\\site-packages\\numpy\\core\\__init__.py\u001B[0m in \u001B[0;36m<module>\u001B[1;34m\u001B[0m\n\u001B[0;32m     16\u001B[0m \u001B[1;32mtry\u001B[0m\u001B[1;33m:\u001B[0m\u001B[1;33m\u001B[0m\u001B[1;33m\u001B[0m\u001B[0m\n\u001B[1;32m---> 17\u001B[1;33m     \u001B[1;32mfrom\u001B[0m \u001B[1;33m.\u001B[0m \u001B[1;32mimport\u001B[0m \u001B[0mmultiarray\u001B[0m\u001B[1;33m\u001B[0m\u001B[1;33m\u001B[0m\u001B[0m\n\u001B[0m\u001B[0;32m     18\u001B[0m \u001B[1;32mexcept\u001B[0m \u001B[0mImportError\u001B[0m \u001B[1;32mas\u001B[0m \u001B[0mexc\u001B[0m\u001B[1;33m:\u001B[0m\u001B[1;33m\u001B[0m\u001B[1;33m\u001B[0m\u001B[0m\n",
      "\u001B[1;32mD:\\Users\\Administrator\\Anaconda3\\envs\\pytorch15\\lib\\site-packages\\numpy\\core\\multiarray.py\u001B[0m in \u001B[0;36m<module>\u001B[1;34m\u001B[0m\n\u001B[0;32m     13\u001B[0m \u001B[1;33m\u001B[0m\u001B[0m\n\u001B[1;32m---> 14\u001B[1;33m \u001B[1;32mfrom\u001B[0m \u001B[1;33m.\u001B[0m \u001B[1;32mimport\u001B[0m \u001B[0moverrides\u001B[0m\u001B[1;33m\u001B[0m\u001B[1;33m\u001B[0m\u001B[0m\n\u001B[0m\u001B[0;32m     15\u001B[0m \u001B[1;32mfrom\u001B[0m \u001B[1;33m.\u001B[0m \u001B[1;32mimport\u001B[0m \u001B[0m_multiarray_umath\u001B[0m\u001B[1;33m\u001B[0m\u001B[1;33m\u001B[0m\u001B[0m\n",
      "\u001B[1;32mD:\\Users\\Administrator\\Anaconda3\\envs\\pytorch15\\lib\\site-packages\\numpy\\core\\overrides.py\u001B[0m in \u001B[0;36m<module>\u001B[1;34m\u001B[0m\n\u001B[0;32m      6\u001B[0m \u001B[1;33m\u001B[0m\u001B[0m\n\u001B[1;32m----> 7\u001B[1;33m from numpy.core._multiarray_umath import (\n\u001B[0m\u001B[0;32m      8\u001B[0m     add_docstring, implement_array_function, _get_implementing_args)\n",
      "\u001B[1;31mImportError\u001B[0m: DLL load failed: 找不到指定的模块。",
      "\nDuring handling of the above exception, another exception occurred:\n",
      "\u001B[1;31mImportError\u001B[0m                               Traceback (most recent call last)",
      "\u001B[1;32m~\\AppData\\Local\\Temp/ipykernel_14408/264461865.py\u001B[0m in \u001B[0;36m<module>\u001B[1;34m\u001B[0m\n\u001B[1;32m----> 1\u001B[1;33m \u001B[1;32mimport\u001B[0m \u001B[0mnumpy\u001B[0m \u001B[1;32mas\u001B[0m \u001B[0mnp\u001B[0m\u001B[1;33m\u001B[0m\u001B[1;33m\u001B[0m\u001B[0m\n\u001B[0m\u001B[0;32m      2\u001B[0m \u001B[1;32mimport\u001B[0m \u001B[0mpandas\u001B[0m \u001B[1;32mas\u001B[0m \u001B[0mpd\u001B[0m\u001B[1;33m\u001B[0m\u001B[1;33m\u001B[0m\u001B[0m\n\u001B[0;32m      3\u001B[0m \u001B[1;32mimport\u001B[0m \u001B[0mjson\u001B[0m\u001B[1;33m\u001B[0m\u001B[1;33m\u001B[0m\u001B[0m\n\u001B[0;32m      4\u001B[0m \u001B[1;32mfrom\u001B[0m \u001B[0mpathlib\u001B[0m \u001B[1;32mimport\u001B[0m \u001B[0mPath\u001B[0m\u001B[1;33m\u001B[0m\u001B[1;33m\u001B[0m\u001B[0m\n\u001B[0;32m      5\u001B[0m \u001B[1;33m\u001B[0m\u001B[0m\n",
      "\u001B[1;32mD:\\Users\\Administrator\\Anaconda3\\envs\\pytorch15\\lib\\site-packages\\numpy\\__init__.py\u001B[0m in \u001B[0;36m<module>\u001B[1;34m\u001B[0m\n\u001B[0;32m    140\u001B[0m     \u001B[1;32mfrom\u001B[0m \u001B[1;33m.\u001B[0m \u001B[1;32mimport\u001B[0m \u001B[0m_distributor_init\u001B[0m\u001B[1;33m\u001B[0m\u001B[1;33m\u001B[0m\u001B[0m\n\u001B[0;32m    141\u001B[0m \u001B[1;33m\u001B[0m\u001B[0m\n\u001B[1;32m--> 142\u001B[1;33m     \u001B[1;32mfrom\u001B[0m \u001B[1;33m.\u001B[0m \u001B[1;32mimport\u001B[0m \u001B[0mcore\u001B[0m\u001B[1;33m\u001B[0m\u001B[1;33m\u001B[0m\u001B[0m\n\u001B[0m\u001B[0;32m    143\u001B[0m     \u001B[1;32mfrom\u001B[0m \u001B[1;33m.\u001B[0m\u001B[0mcore\u001B[0m \u001B[1;32mimport\u001B[0m \u001B[1;33m*\u001B[0m\u001B[1;33m\u001B[0m\u001B[1;33m\u001B[0m\u001B[0m\n\u001B[0;32m    144\u001B[0m     \u001B[1;32mfrom\u001B[0m \u001B[1;33m.\u001B[0m \u001B[1;32mimport\u001B[0m \u001B[0mcompat\u001B[0m\u001B[1;33m\u001B[0m\u001B[1;33m\u001B[0m\u001B[0m\n",
      "\u001B[1;32mD:\\Users\\Administrator\\Anaconda3\\envs\\pytorch15\\lib\\site-packages\\numpy\\core\\__init__.py\u001B[0m in \u001B[0;36m<module>\u001B[1;34m\u001B[0m\n\u001B[0;32m     45\u001B[0m \"\"\" % (sys.version_info[0], sys.version_info[1], sys.executable,\n\u001B[0;32m     46\u001B[0m         __version__, exc)\n\u001B[1;32m---> 47\u001B[1;33m     \u001B[1;32mraise\u001B[0m \u001B[0mImportError\u001B[0m\u001B[1;33m(\u001B[0m\u001B[0mmsg\u001B[0m\u001B[1;33m)\u001B[0m\u001B[1;33m\u001B[0m\u001B[1;33m\u001B[0m\u001B[0m\n\u001B[0m\u001B[0;32m     48\u001B[0m \u001B[1;32mfinally\u001B[0m\u001B[1;33m:\u001B[0m\u001B[1;33m\u001B[0m\u001B[1;33m\u001B[0m\u001B[0m\n\u001B[0;32m     49\u001B[0m     \u001B[1;32mfor\u001B[0m \u001B[0menvkey\u001B[0m \u001B[1;32min\u001B[0m \u001B[0menv_added\u001B[0m\u001B[1;33m:\u001B[0m\u001B[1;33m\u001B[0m\u001B[1;33m\u001B[0m\u001B[0m\n",
      "\u001B[1;31mImportError\u001B[0m: \n\nIMPORTANT: PLEASE READ THIS FOR ADVICE ON HOW TO SOLVE THIS ISSUE!\n\nImporting the numpy c-extensions failed.\n- Try uninstalling and reinstalling numpy.\n- If you have already done that, then:\n  1. Check that you expected to use Python3.7 from \"D:\\Users\\Administrator\\Anaconda3\\envs\\pytorch15\\python.exe\",\n     and that you have no directories in your PATH or PYTHONPATH that can\n     interfere with the Python and numpy version \"1.17.4\" you're trying to use.\n  2. If (1) looks fine, you can open a new issue at\n     https://github.com/numpy/numpy/issues.  Please include details on:\n     - how you installed Python\n     - how you installed numpy\n     - your operating system\n     - whether or not you have multiple versions of Python installed\n     - if you built from source, your compiler versions and ideally a build log\n\n- If you're working with a numpy git repository, try `git clean -xdf`\n  (removes all files not under version control) and rebuild numpy.\n\nNote: this error has many possible causes, so please don't comment on\nan existing issue about this - open a new one instead.\n\nOriginal error was: DLL load failed: 找不到指定的模块。\n"
     ]
    }
   ],
   "source": [
    "import numpy as np\n",
    "import pandas as pd\n",
    "import json\n",
    "from pathlib import Path\n",
    "\n",
    "from itertools import groupby\n"
   ]
  },
  {
   "cell_type": "code",
   "execution_count": 7,
   "id": "14eab247",
   "metadata": {},
   "outputs": [
    {
     "ename": "ImportError",
     "evalue": "\n\nIMPORTANT: PLEASE READ THIS FOR ADVICE ON HOW TO SOLVE THIS ISSUE!\n\nImporting the numpy c-extensions failed.\n- Try uninstalling and reinstalling numpy.\n- If you have already done that, then:\n  1. Check that you expected to use Python3.7 from \"D:\\Users\\Administrator\\Anaconda3\\envs\\pytorch15\\python.exe\",\n     and that you have no directories in your PATH or PYTHONPATH that can\n     interfere with the Python and numpy version \"1.17.4\" you're trying to use.\n  2. If (1) looks fine, you can open a new issue at\n     https://github.com/numpy/numpy/issues.  Please include details on:\n     - how you installed Python\n     - how you installed numpy\n     - your operating system\n     - whether or not you have multiple versions of Python installed\n     - if you built from source, your compiler versions and ideally a build log\n\n- If you're working with a numpy git repository, try `git clean -xdf`\n  (removes all files not under version control) and rebuild numpy.\n\nNote: this error has many possible causes, so please don't comment on\nan existing issue about this - open a new one instead.\n\nOriginal error was: DLL load failed: 找不到指定的模块。\n",
     "output_type": "error",
     "traceback": [
      "\u001B[1;31m---------------------------------------------------------------------------\u001B[0m",
      "\u001B[1;31mImportError\u001B[0m                               Traceback (most recent call last)",
      "\u001B[1;32mD:\\Users\\Administrator\\Anaconda3\\envs\\pytorch15\\lib\\site-packages\\numpy\\core\\__init__.py\u001B[0m in \u001B[0;36m<module>\u001B[1;34m\u001B[0m\n\u001B[0;32m     16\u001B[0m \u001B[1;32mtry\u001B[0m\u001B[1;33m:\u001B[0m\u001B[1;33m\u001B[0m\u001B[1;33m\u001B[0m\u001B[0m\n\u001B[1;32m---> 17\u001B[1;33m     \u001B[1;32mfrom\u001B[0m \u001B[1;33m.\u001B[0m \u001B[1;32mimport\u001B[0m \u001B[0mmultiarray\u001B[0m\u001B[1;33m\u001B[0m\u001B[1;33m\u001B[0m\u001B[0m\n\u001B[0m\u001B[0;32m     18\u001B[0m \u001B[1;32mexcept\u001B[0m \u001B[0mImportError\u001B[0m \u001B[1;32mas\u001B[0m \u001B[0mexc\u001B[0m\u001B[1;33m:\u001B[0m\u001B[1;33m\u001B[0m\u001B[1;33m\u001B[0m\u001B[0m\n",
      "\u001B[1;32mD:\\Users\\Administrator\\Anaconda3\\envs\\pytorch15\\lib\\site-packages\\numpy\\core\\multiarray.py\u001B[0m in \u001B[0;36m<module>\u001B[1;34m\u001B[0m\n\u001B[0;32m     13\u001B[0m \u001B[1;33m\u001B[0m\u001B[0m\n\u001B[1;32m---> 14\u001B[1;33m \u001B[1;32mfrom\u001B[0m \u001B[1;33m.\u001B[0m \u001B[1;32mimport\u001B[0m \u001B[0moverrides\u001B[0m\u001B[1;33m\u001B[0m\u001B[1;33m\u001B[0m\u001B[0m\n\u001B[0m\u001B[0;32m     15\u001B[0m \u001B[1;32mfrom\u001B[0m \u001B[1;33m.\u001B[0m \u001B[1;32mimport\u001B[0m \u001B[0m_multiarray_umath\u001B[0m\u001B[1;33m\u001B[0m\u001B[1;33m\u001B[0m\u001B[0m\n",
      "\u001B[1;32mD:\\Users\\Administrator\\Anaconda3\\envs\\pytorch15\\lib\\site-packages\\numpy\\core\\overrides.py\u001B[0m in \u001B[0;36m<module>\u001B[1;34m\u001B[0m\n\u001B[0;32m      6\u001B[0m \u001B[1;33m\u001B[0m\u001B[0m\n\u001B[1;32m----> 7\u001B[1;33m from numpy.core._multiarray_umath import (\n\u001B[0m\u001B[0;32m      8\u001B[0m     add_docstring, implement_array_function, _get_implementing_args)\n",
      "\u001B[1;31mImportError\u001B[0m: DLL load failed: 找不到指定的模块。",
      "\nDuring handling of the above exception, another exception occurred:\n",
      "\u001B[1;31mImportError\u001B[0m                               Traceback (most recent call last)",
      "\u001B[1;32m~\\AppData\\Local\\Temp/ipykernel_14408/2125172434.py\u001B[0m in \u001B[0;36m<module>\u001B[1;34m\u001B[0m\n\u001B[1;32m----> 1\u001B[1;33m \u001B[1;32mfrom\u001B[0m \u001B[0mLAC\u001B[0m \u001B[1;32mimport\u001B[0m \u001B[0mLAC\u001B[0m\u001B[1;33m\u001B[0m\u001B[1;33m\u001B[0m\u001B[0m\n\u001B[0m\u001B[0;32m      2\u001B[0m \u001B[0mlac\u001B[0m \u001B[1;33m=\u001B[0m \u001B[0mLAC\u001B[0m\u001B[1;33m(\u001B[0m\u001B[0mmode\u001B[0m\u001B[1;33m=\u001B[0m\u001B[1;34m'lac'\u001B[0m\u001B[1;33m)\u001B[0m\u001B[1;33m\u001B[0m\u001B[1;33m\u001B[0m\u001B[0m\n",
      "\u001B[1;32mD:\\Users\\Administrator\\Anaconda3\\envs\\pytorch15\\lib\\site-packages\\LAC\\__init__.py\u001B[0m in \u001B[0;36m<module>\u001B[1;34m\u001B[0m\n\u001B[0;32m     21\u001B[0m \u001B[0mversion_info\u001B[0m \u001B[1;33m=\u001B[0m \u001B[1;33m(\u001B[0m\u001B[1;36m2\u001B[0m\u001B[1;33m,\u001B[0m \u001B[1;36m1\u001B[0m\u001B[1;33m,\u001B[0m \u001B[1;36m2\u001B[0m\u001B[1;33m,\u001B[0m \u001B[1;36m0\u001B[0m\u001B[1;33m)\u001B[0m\u001B[1;33m\u001B[0m\u001B[1;33m\u001B[0m\u001B[0m\n\u001B[0;32m     22\u001B[0m \u001B[1;33m\u001B[0m\u001B[0m\n\u001B[1;32m---> 23\u001B[1;33m \u001B[1;32mfrom\u001B[0m \u001B[1;33m.\u001B[0m\u001B[0mlac\u001B[0m \u001B[1;32mimport\u001B[0m \u001B[0mLAC\u001B[0m\u001B[1;33m\u001B[0m\u001B[1;33m\u001B[0m\u001B[0m\n\u001B[0m",
      "\u001B[1;32mD:\\Users\\Administrator\\Anaconda3\\envs\\pytorch15\\lib\\site-packages\\LAC\\lac.py\u001B[0m in \u001B[0;36m<module>\u001B[1;34m\u001B[0m\n\u001B[0;32m     25\u001B[0m \u001B[1;32mimport\u001B[0m \u001B[0mlogging\u001B[0m\u001B[1;33m\u001B[0m\u001B[1;33m\u001B[0m\u001B[0m\n\u001B[0;32m     26\u001B[0m \u001B[1;33m\u001B[0m\u001B[0m\n\u001B[1;32m---> 27\u001B[1;33m \u001B[1;32mimport\u001B[0m \u001B[0mnumpy\u001B[0m \u001B[1;32mas\u001B[0m \u001B[0mnp\u001B[0m\u001B[1;33m\u001B[0m\u001B[1;33m\u001B[0m\u001B[0m\n\u001B[0m\u001B[0;32m     28\u001B[0m \u001B[1;32mimport\u001B[0m \u001B[0mpaddle\u001B[0m\u001B[1;33m.\u001B[0m\u001B[0mfluid\u001B[0m \u001B[1;32mas\u001B[0m \u001B[0mfluid\u001B[0m\u001B[1;33m\u001B[0m\u001B[1;33m\u001B[0m\u001B[0m\n\u001B[0;32m     29\u001B[0m \u001B[1;32mfrom\u001B[0m \u001B[0mpaddle\u001B[0m\u001B[1;33m.\u001B[0m\u001B[0mfluid\u001B[0m\u001B[1;33m.\u001B[0m\u001B[0mcore\u001B[0m \u001B[1;32mimport\u001B[0m \u001B[0mPaddleTensor\u001B[0m\u001B[1;33m\u001B[0m\u001B[1;33m\u001B[0m\u001B[0m\n",
      "\u001B[1;32mD:\\Users\\Administrator\\Anaconda3\\envs\\pytorch15\\lib\\site-packages\\numpy\\__init__.py\u001B[0m in \u001B[0;36m<module>\u001B[1;34m\u001B[0m\n\u001B[0;32m    140\u001B[0m     \u001B[1;32mfrom\u001B[0m \u001B[1;33m.\u001B[0m \u001B[1;32mimport\u001B[0m \u001B[0m_distributor_init\u001B[0m\u001B[1;33m\u001B[0m\u001B[1;33m\u001B[0m\u001B[0m\n\u001B[0;32m    141\u001B[0m \u001B[1;33m\u001B[0m\u001B[0m\n\u001B[1;32m--> 142\u001B[1;33m     \u001B[1;32mfrom\u001B[0m \u001B[1;33m.\u001B[0m \u001B[1;32mimport\u001B[0m \u001B[0mcore\u001B[0m\u001B[1;33m\u001B[0m\u001B[1;33m\u001B[0m\u001B[0m\n\u001B[0m\u001B[0;32m    143\u001B[0m     \u001B[1;32mfrom\u001B[0m \u001B[1;33m.\u001B[0m\u001B[0mcore\u001B[0m \u001B[1;32mimport\u001B[0m \u001B[1;33m*\u001B[0m\u001B[1;33m\u001B[0m\u001B[1;33m\u001B[0m\u001B[0m\n\u001B[0;32m    144\u001B[0m     \u001B[1;32mfrom\u001B[0m \u001B[1;33m.\u001B[0m \u001B[1;32mimport\u001B[0m \u001B[0mcompat\u001B[0m\u001B[1;33m\u001B[0m\u001B[1;33m\u001B[0m\u001B[0m\n",
      "\u001B[1;32mD:\\Users\\Administrator\\Anaconda3\\envs\\pytorch15\\lib\\site-packages\\numpy\\core\\__init__.py\u001B[0m in \u001B[0;36m<module>\u001B[1;34m\u001B[0m\n\u001B[0;32m     45\u001B[0m \"\"\" % (sys.version_info[0], sys.version_info[1], sys.executable,\n\u001B[0;32m     46\u001B[0m         __version__, exc)\n\u001B[1;32m---> 47\u001B[1;33m     \u001B[1;32mraise\u001B[0m \u001B[0mImportError\u001B[0m\u001B[1;33m(\u001B[0m\u001B[0mmsg\u001B[0m\u001B[1;33m)\u001B[0m\u001B[1;33m\u001B[0m\u001B[1;33m\u001B[0m\u001B[0m\n\u001B[0m\u001B[0;32m     48\u001B[0m \u001B[1;32mfinally\u001B[0m\u001B[1;33m:\u001B[0m\u001B[1;33m\u001B[0m\u001B[1;33m\u001B[0m\u001B[0m\n\u001B[0;32m     49\u001B[0m     \u001B[1;32mfor\u001B[0m \u001B[0menvkey\u001B[0m \u001B[1;32min\u001B[0m \u001B[0menv_added\u001B[0m\u001B[1;33m:\u001B[0m\u001B[1;33m\u001B[0m\u001B[1;33m\u001B[0m\u001B[0m\n",
      "\u001B[1;31mImportError\u001B[0m: \n\nIMPORTANT: PLEASE READ THIS FOR ADVICE ON HOW TO SOLVE THIS ISSUE!\n\nImporting the numpy c-extensions failed.\n- Try uninstalling and reinstalling numpy.\n- If you have already done that, then:\n  1. Check that you expected to use Python3.7 from \"D:\\Users\\Administrator\\Anaconda3\\envs\\pytorch15\\python.exe\",\n     and that you have no directories in your PATH or PYTHONPATH that can\n     interfere with the Python and numpy version \"1.17.4\" you're trying to use.\n  2. If (1) looks fine, you can open a new issue at\n     https://github.com/numpy/numpy/issues.  Please include details on:\n     - how you installed Python\n     - how you installed numpy\n     - your operating system\n     - whether or not you have multiple versions of Python installed\n     - if you built from source, your compiler versions and ideally a build log\n\n- If you're working with a numpy git repository, try `git clean -xdf`\n  (removes all files not under version control) and rebuild numpy.\n\nNote: this error has many possible causes, so please don't comment on\nan existing issue about this - open a new one instead.\n\nOriginal error was: DLL load failed: 找不到指定的模块。\n"
     ]
    }
   ],
   "source": [
    "from LAC import LAC\n",
    "lac = LAC(mode='lac')"
   ]
  },
  {
   "cell_type": "code",
   "execution_count": 2,
   "id": "suited-bundle",
   "metadata": {},
   "outputs": [],
   "source": [
    "import re\n",
    "def cut_sent(para):\n",
    "    para = re.sub('([。！？\\?])([^”’])', r\"\\1\\n\\2\", para)  # 单字符断句符\n",
    "    para = re.sub('(\\.{6})([^”’])', r\"\\1\\n\\2\", para)  # 英文省略号\n",
    "    para = re.sub('(\\…{2})([^”’])', r\"\\1\\n\\2\", para)  # 中文省略号\n",
    "    para = re.sub('([。！？\\?][”’])([^，。！？\\?])', r'\\1\\n\\2', para)\n",
    "    # 如果双引号前有终止符，那么双引号才是句子的终点，把分句符\\n放到双引号后，注意前面的几句都小心保留了双引号\n",
    "    para = para.rstrip()  # 段尾如果有多余的\\n就去掉它\n",
    "    # 很多规则中会考虑分号;，但是这里我把它忽略不计，破折号、英文双引号等同样忽略，需要的再做些简单调整即可。\n",
    "    return para.split(\"\\n\")"
   ]
  },
  {
   "cell_type": "markdown",
   "id": "biblical-vacation",
   "metadata": {},
   "source": [
    "### 加载数据，包括Excel文件及其对应图片文件"
   ]
  },
  {
   "cell_type": "code",
   "execution_count": 3,
   "id": "timely-marina",
   "metadata": {},
   "outputs": [
    {
     "ename": "NameError",
     "evalue": "name 'Path' is not defined",
     "output_type": "error",
     "traceback": [
      "\u001B[1;31m---------------------------------------------------------------------------\u001B[0m",
      "\u001B[1;31mNameError\u001B[0m                                 Traceback (most recent call last)",
      "\u001B[1;32m~\\AppData\\Local\\Temp/ipykernel_14408/2668200888.py\u001B[0m in \u001B[0;36m<module>\u001B[1;34m\u001B[0m\n\u001B[0;32m      1\u001B[0m \u001B[0mrenmin_data_path_dir\u001B[0m \u001B[1;33m=\u001B[0m \u001B[1;34m\"./renmin_data\"\u001B[0m\u001B[1;33m\u001B[0m\u001B[1;33m\u001B[0m\u001B[0m\n\u001B[0;32m      2\u001B[0m \u001B[0mwangyi_data_path_dir\u001B[0m \u001B[1;33m=\u001B[0m \u001B[1;34m\"./wangyi_data\"\u001B[0m\u001B[1;33m\u001B[0m\u001B[1;33m\u001B[0m\u001B[0m\n\u001B[1;32m----> 3\u001B[1;33m \u001B[0mrenmin_fileName2df\u001B[0m \u001B[1;33m=\u001B[0m \u001B[1;33m{\u001B[0m\u001B[0mfilePath\u001B[0m\u001B[1;33m.\u001B[0m\u001B[0mname\u001B[0m\u001B[1;33m.\u001B[0m\u001B[0mstrip\u001B[0m\u001B[1;33m(\u001B[0m\u001B[0mfilePath\u001B[0m\u001B[1;33m.\u001B[0m\u001B[0msuffix\u001B[0m\u001B[1;33m)\u001B[0m\u001B[1;33m:\u001B[0m\u001B[0mpd\u001B[0m\u001B[1;33m.\u001B[0m\u001B[0mread_excel\u001B[0m\u001B[1;33m(\u001B[0m\u001B[0mfilePath\u001B[0m\u001B[1;33m)\u001B[0m \u001B[1;32mfor\u001B[0m \u001B[0mfilePath\u001B[0m \u001B[1;32min\u001B[0m \u001B[0mPath\u001B[0m\u001B[1;33m(\u001B[0m\u001B[1;34mf\"{renmin_data_path_dir}/article_data\"\u001B[0m\u001B[1;33m)\u001B[0m\u001B[1;33m.\u001B[0m\u001B[0miterdir\u001B[0m\u001B[1;33m(\u001B[0m\u001B[1;33m)\u001B[0m \u001B[1;32mif\u001B[0m \u001B[0mfilePath\u001B[0m\u001B[1;33m.\u001B[0m\u001B[0mis_file\u001B[0m\u001B[1;33m(\u001B[0m\u001B[1;33m)\u001B[0m\u001B[1;33m}\u001B[0m\u001B[1;33m\u001B[0m\u001B[1;33m\u001B[0m\u001B[0m\n\u001B[0m\u001B[0;32m      4\u001B[0m \u001B[0mwangyi_fileName2df\u001B[0m \u001B[1;33m=\u001B[0m \u001B[1;33m{\u001B[0m\u001B[0mfilePath\u001B[0m\u001B[1;33m.\u001B[0m\u001B[0mname\u001B[0m\u001B[1;33m.\u001B[0m\u001B[0mstrip\u001B[0m\u001B[1;33m(\u001B[0m\u001B[0mfilePath\u001B[0m\u001B[1;33m.\u001B[0m\u001B[0msuffix\u001B[0m\u001B[1;33m)\u001B[0m\u001B[1;33m:\u001B[0m\u001B[0mpd\u001B[0m\u001B[1;33m.\u001B[0m\u001B[0mread_excel\u001B[0m\u001B[1;33m(\u001B[0m\u001B[0mfilePath\u001B[0m\u001B[1;33m)\u001B[0m \u001B[1;32mfor\u001B[0m \u001B[0mfilePath\u001B[0m \u001B[1;32min\u001B[0m \u001B[0mPath\u001B[0m\u001B[1;33m(\u001B[0m\u001B[1;34mf\"{wangyi_data_path_dir}/article_data\"\u001B[0m\u001B[1;33m)\u001B[0m\u001B[1;33m.\u001B[0m\u001B[0miterdir\u001B[0m\u001B[1;33m(\u001B[0m\u001B[1;33m)\u001B[0m \u001B[1;32mif\u001B[0m \u001B[0mfilePath\u001B[0m\u001B[1;33m.\u001B[0m\u001B[0mis_file\u001B[0m\u001B[1;33m(\u001B[0m\u001B[1;33m)\u001B[0m\u001B[1;33m}\u001B[0m\u001B[1;33m\u001B[0m\u001B[1;33m\u001B[0m\u001B[0m\n",
      "\u001B[1;31mNameError\u001B[0m: name 'Path' is not defined"
     ]
    }
   ],
   "source": [
    "renmin_data_path_dir = \"./renmin_data\"\n",
    "wangyi_data_path_dir = \"./wangyi_data\"\n",
    "renmin_fileName2df = {filePath.name.strip(filePath.suffix):pd.read_excel(filePath) for filePath in Path(f\"{renmin_data_path_dir}/article_data\").iterdir() if filePath.is_file()}\n",
    "wangyi_fileName2df = {filePath.name.strip(filePath.suffix):pd.read_excel(filePath) for filePath in Path(f\"{wangyi_data_path_dir}/article_data\").iterdir() if filePath.is_file()}"
   ]
  },
  {
   "cell_type": "code",
   "execution_count": 76,
   "id": "polished-eleven",
   "metadata": {},
   "outputs": [
    {
     "name": "stdout",
     "output_type": "stream",
     "text": [
      "IT-2021-07-01 23-40-57 : (517, 3)\n",
      "公益-2021-07-01 23-38-35 : (498, 3)\n",
      "军事-中国军情-2021-07-01 23-43-06 : (481, 3)\n",
      "军事-国防部-2021-07-01 23-41-51 : (201, 3)\n",
      "军事-国际军情-2021-07-01 23-43-52 : (503, 3)\n",
      "军事-本网原创-2021-07-01 23-42-20 : (424, 3)\n",
      "军事-滚动新闻-2021-07-01 23-41-22 : (489, 3)\n",
      "军事-热点解读-2021-07-01 23-44-14 : (77, 3)\n",
      "军事-评论-2021-07-01 23-45-07 : (501, 3)\n",
      "军事-高层动态-2021-07-01 23-41-37 : (38, 3)\n",
      "娱乐-2021-07-01 23-40-02 : (487, 3)\n",
      "房产-2021-07-01 23-35-50 : (80, 3)\n",
      "房产-人民楼视-2021-07-01 23-36-40 : (96, 3)\n",
      "房产-公司新闻-2021-07-02 00-07-18 : (94, 3)\n",
      "教育-中小学-2021-07-01 23-47-48 : (515, 3)\n",
      "教育-原创-2021-07-01 23-46-04 : (284, 3)\n",
      "教育-大学-2021-07-01 23-48-22 : (504, 3)\n",
      "教育-幼教-2021-07-01 23-47-17 : (509, 3)\n",
      "教育-滚动新闻-2021-07-01 23-45-49 : (490, 3)\n",
      "教育-留学-2021-07-01 23-46-46 : (518, 3)\n",
      "教育-职业教育-2021-07-01 23-48-54 : (405, 3)\n",
      "汽车-2021-07-02 00-07-21 : (0, 3)\n",
      "游戏-2021-07-01 23-39-11 : (490, 3)\n",
      "科技-2021-07-01 23-37-09 : (252, 3)\n",
      "人民日报文章总数：--------- 8453 \n",
      "\n",
      "NBA-2021-06-30 01-14-21 : (34, 3)\n",
      "体育-2021-06-30 01-14-18 : (100, 3)\n",
      "军事-2021-06-30 01-13-53 : (60, 3)\n",
      "国内-2021-06-30 01-13-44 : (69, 3)\n",
      "国际-2021-06-30 01-13-48 : (68, 3)\n",
      "女人-2021-06-30 01-14-35 : (30, 3)\n",
      "娱乐-2021-06-30 01-14-44 : (26, 3)\n",
      "房产-2021-06-30 01-14-28 : (45, 3)\n",
      "手机-2021-06-30 01-14-40 : (30, 3)\n",
      "教育-2021-06-30 01-14-24 : (32, 3)\n",
      "旅游-2021-06-30 01-14-32 : (27, 3)\n",
      "智能-2021-06-30 01-14-38 : (20, 3)\n",
      "科技-2021-06-30 01-14-02 : (30, 3)\n",
      "股票-2021-06-30 01-14-12 : (45, 3)\n",
      "网易文章总数：--------- 616\n"
     ]
    }
   ],
   "source": [
    "# 查看文章总数\n",
    "count = 0\n",
    "for name, df in renmin_fileName2df.items():\n",
    "    print(name, \":\", df.shape)\n",
    "    count += df.shape[0]\n",
    "print(\"人民日报文章总数：---------\", count, \"\\n\")\n",
    "\n",
    "count = 0\n",
    "for name, df in wangyi_fileName2df.items():\n",
    "    print(name, \":\", df.shape)\n",
    "    count += df.shape[0]\n",
    "print(\"网易文章总数：---------\", count)"
   ]
  },
  {
   "cell_type": "code",
   "execution_count": 4,
   "id": "helpful-issue",
   "metadata": {},
   "outputs": [
    {
     "ename": "NameError",
     "evalue": "name 'lac' is not defined",
     "output_type": "error",
     "traceback": [
      "\u001B[1;31m---------------------------------------------------------------------------\u001B[0m",
      "\u001B[1;31mNameError\u001B[0m                                 Traceback (most recent call last)",
      "\u001B[1;32m~\\AppData\\Local\\Temp/ipykernel_14408/2495300911.py\u001B[0m in \u001B[0;36m<module>\u001B[1;34m\u001B[0m\n\u001B[0;32m     37\u001B[0m             \u001B[0mlabeled_content_list\u001B[0m\u001B[1;33m.\u001B[0m\u001B[0mextend\u001B[0m\u001B[1;33m(\u001B[0m\u001B[0mconvert_word_to_train_char\u001B[0m\u001B[1;33m(\u001B[0m\u001B[0mword\u001B[0m\u001B[1;33m,\u001B[0m \u001B[1;34m\"O\"\u001B[0m\u001B[1;33m)\u001B[0m\u001B[1;33m)\u001B[0m\u001B[1;33m\u001B[0m\u001B[1;33m\u001B[0m\u001B[0m\n\u001B[0;32m     38\u001B[0m     \u001B[1;32mreturn\u001B[0m \u001B[0mtype2entity\u001B[0m\u001B[1;33m,\u001B[0m \u001B[0mlabeled_content_list\u001B[0m\u001B[1;33m\u001B[0m\u001B[1;33m\u001B[0m\u001B[0m\n\u001B[1;32m---> 39\u001B[1;33m \u001B[0marticle_label\u001B[0m\u001B[1;33m(\u001B[0m\u001B[1;33m)\u001B[0m\u001B[1;33m\u001B[0m\u001B[1;33m\u001B[0m\u001B[0m\n\u001B[0m",
      "\u001B[1;32m~\\AppData\\Local\\Temp/ipykernel_14408/2495300911.py\u001B[0m in \u001B[0;36marticle_label\u001B[1;34m(article_content)\u001B[0m\n\u001B[0;32m     28\u001B[0m \u001B[1;33m\u001B[0m\u001B[0m\n\u001B[0;32m     29\u001B[0m \u001B[1;33m\u001B[0m\u001B[0m\n\u001B[1;32m---> 30\u001B[1;33m     \u001B[0mlac_result\u001B[0m \u001B[1;33m=\u001B[0m \u001B[0mlac\u001B[0m\u001B[1;33m.\u001B[0m\u001B[0mrun\u001B[0m\u001B[1;33m(\u001B[0m\u001B[0marticle_content\u001B[0m\u001B[1;33m)\u001B[0m\u001B[1;33m\u001B[0m\u001B[1;33m\u001B[0m\u001B[0m\n\u001B[0m\u001B[0;32m     31\u001B[0m     \u001B[1;32mfor\u001B[0m \u001B[0mword\u001B[0m\u001B[1;33m,\u001B[0m \u001B[0mlabel\u001B[0m \u001B[1;32min\u001B[0m \u001B[0mzip\u001B[0m\u001B[1;33m(\u001B[0m\u001B[0mlac_result\u001B[0m\u001B[1;33m[\u001B[0m\u001B[1;36m0\u001B[0m\u001B[1;33m]\u001B[0m\u001B[1;33m,\u001B[0m \u001B[0mlac_result\u001B[0m\u001B[1;33m[\u001B[0m\u001B[1;36m1\u001B[0m\u001B[1;33m]\u001B[0m\u001B[1;33m)\u001B[0m\u001B[1;33m:\u001B[0m\u001B[1;33m\u001B[0m\u001B[1;33m\u001B[0m\u001B[0m\n\u001B[0;32m     32\u001B[0m         \u001B[1;32mif\u001B[0m \u001B[0mlabel\u001B[0m \u001B[1;32min\u001B[0m \u001B[1;33m[\u001B[0m\u001B[1;34m\"ORG\"\u001B[0m\u001B[1;33m,\u001B[0m\u001B[1;34m\"PER\"\u001B[0m\u001B[1;33m,\u001B[0m \u001B[1;34m\"TIME\"\u001B[0m\u001B[1;33m,\u001B[0m \u001B[1;34m\"LOC\"\u001B[0m\u001B[1;33m]\u001B[0m\u001B[1;33m:\u001B[0m\u001B[1;33m\u001B[0m\u001B[1;33m\u001B[0m\u001B[0m\n",
      "\u001B[1;31mNameError\u001B[0m: name 'lac' is not defined"
     ]
    }
   ],
   "source": [
    "test_content = \"6月11日\\n，江苏天制环保科技有限公司(下称“天制环保科技公司”)向中华慈善总会捐赠天制垃圾无氧裂解热气化处理设备仪式在北京举行。中华慈善总会会长宫蒲光，荣誉副会长、新闻界慈善促进会执行会长兼秘书长徐镱轩，天制环保科技公司董事长孙文明、总经理霍玉琪出席捐赠仪式。仪式上，天制环保科技公司向中华慈善总会捐赠了价值5000万元的无氧裂解垃圾热气化处理设备，将用于乡村垃圾处理与环境治理。\\\n",
    " 宫蒲光对天制环保科技公司的慷慨善举表示衷心感谢与诚挚的敬意。他指出，践行社会责任是企业提升自身价值与产品口碑的良好途径。天制环保科技公司与中华慈善总会的合作就是巩固拓展脱贫攻坚成果与乡村振兴有效衔接的一次积极尝试，通过企业向广大农村地区捐赠垃圾处理环保设备，将与中华慈善总会“幸福家园”村社互助工程共同为助力乡村振兴事业添砖加瓦。双方将通过在全国范围内进行试点推广，发展一批适合各地特点的农业农村集体企业，促进县域经济，提升农村农业高质量发展。\\\n",
    " 徐镱轩在讲话中表示，垃圾治理是环境保护的重要环节，是助力乡村振兴的重要手段，也是中华慈善总会广泛开展“幸福家园”村社互助工程的重要利器。天制环保科技公司是一家积极履行社会责任的企业，其研发的垃圾处理设备既能使农村垃圾得到彻底治理，改善美化农村环境，又能变废为宝，使垃圾转变为电能热能服务社会，为乡村农产品深加工提供绿色廉价能源，助力乡村振兴战略。\\\n",
    " 孙文明在接受《慈善公益报》记者采访时表示，天制垃圾无氧裂解热气化处理设备安装之后，首先解决了农村环保问题。天制垃圾无氧裂解热气化处理系统是目前国内最适合县域农村环境治理的垃圾处理系统，可实现垃圾无害化和资源化再利用，转化为电能和热能，进一步为乡村集体企业提供大棚供暖，蔬菜和食用菌的种植、烘干等，成为促进农村农民增收，践行美丽中国环保理念的有益实践。\"\n",
    "# 装载LAC模型\n",
    "def article_label(article_content = test_content):\n",
    "    \"\"\"\n",
    "        采用LAC工具对文章内容article_content进行标注，同时返回\n",
    "    \"\"\"\n",
    "    def convert_word_to_train_char(w, tag):\n",
    "        res = []\n",
    "        if w == \"\\n\" or w == \"。\" or w == \"！\" or w == \"？\":\n",
    "            res.append(\"\\n\")\n",
    "            return res\n",
    "        for i, char in enumerate(w):\n",
    "            if tag.lower() == \"o\":\n",
    "                res.append(f\"{char} O\")\n",
    "            else:\n",
    "                if i == 0:\n",
    "                    res.append(f\"{char} B-{tag.upper()}\")\n",
    "                else:\n",
    "                    res.append(f\"{char} I-{tag.upper()}\")\n",
    "        return res\n",
    "    labeled_content_list = []\n",
    "    type2entity = {}\n",
    "    \n",
    "    # 先将文档进行分句\n",
    "    \n",
    "    \n",
    "    lac_result = lac.run(article_content)\n",
    "    for word, label in zip(lac_result[0], lac_result[1]):\n",
    "        if label in [\"ORG\",\"PER\", \"TIME\", \"LOC\"]:\n",
    "            type2entity.setdefault(label, [])\n",
    "            type2entity[label].append(word)\n",
    "            labeled_content_list.extend(convert_word_to_train_char(word, label))\n",
    "        else:\n",
    "            labeled_content_list.extend(convert_word_to_train_char(word, \"O\"))\n",
    "    return type2entity, labeled_content_list\n",
    "article_label()"
   ]
  },
  {
   "cell_type": "code",
   "execution_count": 82,
   "id": "sacred-outreach",
   "metadata": {},
   "outputs": [
    {
     "data": {
      "text/html": [
       "<div>\n",
       "<style scoped>\n",
       "    .dataframe tbody tr th:only-of-type {\n",
       "        vertical-align: middle;\n",
       "    }\n",
       "\n",
       "    .dataframe tbody tr th {\n",
       "        vertical-align: top;\n",
       "    }\n",
       "\n",
       "    .dataframe thead th {\n",
       "        text-align: right;\n",
       "    }\n",
       "</style>\n",
       "<table border=\"1\" class=\"dataframe\">\n",
       "  <thead>\n",
       "    <tr style=\"text-align: right;\">\n",
       "      <th></th>\n",
       "      <th>title</th>\n",
       "      <th>content</th>\n",
       "      <th>imgs</th>\n",
       "    </tr>\n",
       "  </thead>\n",
       "  <tbody>\n",
       "    <tr>\n",
       "      <th>0</th>\n",
       "      <td>陕西联通：落实乡村振兴战略 共建数字乡村生态</td>\n",
       "      <td>\\n近日，中国联通召开数字乡村推进会，提出以数字化助力乡村全面振兴的举措。6月9日，陕西“数...</td>\n",
       "      <td>renmin_data\\imgs\\8ffca1b8-1e55-4640-b662-2c477...</td>\n",
       "    </tr>\n",
       "  </tbody>\n",
       "</table>\n",
       "</div>"
      ],
      "text/plain": [
       "                    title                                            content  \\\n",
       "0  陕西联通：落实乡村振兴战略 共建数字乡村生态  \\n近日，中国联通召开数字乡村推进会，提出以数字化助力乡村全面振兴的举措。6月9日，陕西“数...   \n",
       "\n",
       "                                                imgs  \n",
       "0  renmin_data\\imgs\\8ffca1b8-1e55-4640-b662-2c477...  "
      ]
     },
     "execution_count": 82,
     "metadata": {},
     "output_type": "execute_result"
    }
   ],
   "source": [
    "list(renmin_fileName2df.values())[0].head(1)"
   ]
  },
  {
   "cell_type": "code",
   "execution_count": null,
   "id": "related-elder",
   "metadata": {},
   "outputs": [],
   "source": []
  },
  {
   "cell_type": "code",
   "execution_count": null,
   "id": "deluxe-secretary",
   "metadata": {},
   "outputs": [
    {
     "name": "stderr",
     "output_type": "stream",
     "text": [
      "d:\\users\\administrator\\anaconda3\\envs\\pytorch15\\lib\\site-packages\\ipykernel\\ipkernel.py:283: DeprecationWarning: `should_run_async` will not call `transform_cell` automatically in the future. Please pass the result to `transformed_cell` argument and any exception that happen during thetransform in `preprocessing_exc_tuple` in IPython 7.17 and above.\n",
      "  and should_run_async(code)\n"
     ]
    }
   ],
   "source": [
    "# 人民日报数据 将原始数据进行转化成可训练数据，同时统计相关数据\n",
    "all_type2entity = {}  # 实体未去重\n",
    "all_labeled_content_list = []\n",
    "all_entity2imgs = {}\n",
    "for name, df in renmin_fileName2df.items():\n",
    "    if df.shape[0] != 0:\n",
    "        for i,row in df.iterrows(): # 每篇文章\n",
    "            row_dic = row.dropna().to_dict()\n",
    "            imgs = row_dic.get('imgs', \"\")\n",
    "            # 分割提取图片\n",
    "            img_list = []\n",
    "            for img_path in imgs.split(\";\"):\n",
    "                if len(img_path) > 0: \n",
    "                    img_list.append(img_path)\n",
    "                    \n",
    "            # 文章内容\n",
    "            content = row_dic.get(\"content\", \"\")\n",
    "            type2entity, labeled_content_list = article_label(str(content)) # labeled_content_list:[\"X O\", \"D B-ORG\", ...]\n",
    "            for type_, entities in type2entity.items():\n",
    "                all_type2entity.setdefault(type_, [])\n",
    "                all_type2entity[type_].extend(entities)\n",
    "                \n",
    "                # 为每个实体存储对应图片关系\n",
    "                for entity in entities:\n",
    "                    all_entity2imgs.setdefault(entity, [])\n",
    "                    all_entity2imgs[entity].extend(img_list)\n",
    "            \n",
    "            # 保存每个文章转化后的训练数据\n",
    "            all_labeled_content_list.append(\"\\n\".join(labeled_content_list))"
   ]
  },
  {
   "cell_type": "code",
   "execution_count": null,
   "id": "electoral-means",
   "metadata": {},
   "outputs": [],
   "source": [
    "print(len(all_type2entity), len(all_labeled_content_list), len(all_entity2imgs))"
   ]
  },
  {
   "cell_type": "code",
   "execution_count": null,
   "id": "polished-electric",
   "metadata": {},
   "outputs": [],
   "source": [
    "# 网易数据 \n",
    "for name, df in wangyi_fileName2df.items():\n",
    "    if df.shape[0] != 0:\n",
    "        for i,row in df.iterrows(): # 每篇文章\n",
    "            row_dic = row.dropna().to_dict()\n",
    "            imgs = row_dic.get('imgs', \"\")\n",
    "            # 分割提取图片\n",
    "            img_list = []\n",
    "            for img_path in imgs.split(\";\"):\n",
    "                if len(img_path) > 0: \n",
    "                    img_list.append(img_path)\n",
    "                    \n",
    "            # 文章内容\n",
    "            content = row_dic.get(\"content\", \"\")\n",
    "            type2entity, labeled_content_list = article_label(str(content)) # labeled_content_list:[\"X O\", \"D B-ORG\", ...]\n",
    "            for type_, entities in type2entity.items():\n",
    "                all_type2entity.setdefault(type_, [])\n",
    "                all_type2entity[type_].extend(entities)\n",
    "                \n",
    "                # 为每个实体存储对应图片关系\n",
    "                for entity in entities:\n",
    "                    all_entity2imgs.setdefault(entity, [])\n",
    "                    all_entity2imgs[entity].extend(img_list)\n",
    "            \n",
    "            # 保存每个文章转化后的训练数据\n",
    "            all_labeled_content_list.append(\"\\n\".join(labeled_content_list))"
   ]
  },
  {
   "cell_type": "code",
   "execution_count": null,
   "id": "loved-standard",
   "metadata": {},
   "outputs": [],
   "source": [
    "print(len(all_type2entity), len(all_labeled_content_list), len(all_entity2imgs))  # 未去重"
   ]
  },
  {
   "cell_type": "code",
   "execution_count": null,
   "id": "constant-cooking",
   "metadata": {},
   "outputs": [],
   "source": []
  },
  {
   "cell_type": "code",
   "execution_count": null,
   "id": "resistant-stations",
   "metadata": {},
   "outputs": [],
   "source": [
    "# all_entity2imgs 中的图片可能具有重复，对其进行统计， 排序（多到少）,去重\n",
    "new_all_entity2imgs = {}\n",
    "count_list = {}\n",
    "for entity, imgs in all_entity2imgs.items():\n",
    "    if len(imgs) != len(set(imgs)):\n",
    "        temp = []\n",
    "        imgs_sorted = sorted(imgs)\n",
    "        for k, g in groupby(imgs_sorted):\n",
    "            temp.append((k, len(list(g))))\n",
    "        temp_sorted = [img for img, count in sorted(temp, key=lambda x: x[1], reverse = True)]\n",
    "        new_all_entity2imgs[entity] = temp_sorted[20:]  # 出现次数较高的前几个图片大多为无意义通用图片（如图标，logo等）\n",
    "    else:\n",
    "        new_all_entity2imgs[entity] = imgs\n",
    "    count_list[entity] = len(new_all_entity2imgs[entity])\n",
    "# sorted(count_list.items(), key=lambda x: x[1], reverse=True)\n",
    "all_entity2imgs = new_all_entity2imgs"
   ]
  },
  {
   "cell_type": "code",
   "execution_count": null,
   "id": "expanded-calcium",
   "metadata": {},
   "outputs": [],
   "source": [
    "all_entity2imgs[\"黄河\"]"
   ]
  },
  {
   "cell_type": "code",
   "execution_count": null,
   "id": "statewide-ambassador",
   "metadata": {},
   "outputs": [],
   "source": [
    "# 文件保存\n",
    "def save_json_file(file_path, data): \n",
    "    with open(file_path, 'w', encoding=\"utf-8\") as f:\n",
    "        json.dump(data, f, ensure_ascii=False)\n",
    "save_json_file(\"./produced_data/all_type2entity.json\", all_type2entity)\n",
    "save_json_file(\"./produced_data/all_labeled_content_list.json\", all_labeled_content_list)\n",
    "save_json_file(\"./produced_data/all_entity2imgs.json\", all_entity2imgs)"
   ]
  },
  {
   "cell_type": "code",
   "execution_count": null,
   "id": "further-immigration",
   "metadata": {},
   "outputs": [],
   "source": []
  },
  {
   "cell_type": "code",
   "execution_count": null,
   "id": "broke-receiver",
   "metadata": {},
   "outputs": [],
   "source": [
    "# 集成训练数据，同统计句子长度\n",
    "all_data = []\n",
    "len_list = []\n",
    "for article_labeled_content in all_labeled_content_list:\n",
    "    sentence_tag_list = article_labeled_content.split(\"\\n\\n\")\n",
    "    for sentence_tag in sentence_tag_list:\n",
    "        len_list.append(int((len(sentence_tag)/3)))\n",
    "temp = sorted(len_list)\n",
    "print(temp[1], \" \", temp[-1])"
   ]
  },
  {
   "cell_type": "code",
   "execution_count": null,
   "id": "failing-volleyball",
   "metadata": {},
   "outputs": [],
   "source": []
  },
  {
   "cell_type": "code",
   "execution_count": null,
   "id": "peaceful-constitution",
   "metadata": {},
   "outputs": [],
   "source": []
  },
  {
   "cell_type": "code",
   "execution_count": null,
   "id": "recreational-future",
   "metadata": {},
   "outputs": [],
   "source": []
  },
  {
   "cell_type": "code",
   "execution_count": null,
   "id": "peaceful-budget",
   "metadata": {},
   "outputs": [],
   "source": []
  },
  {
   "cell_type": "code",
   "execution_count": null,
   "id": "combined-adolescent",
   "metadata": {},
   "outputs": [],
   "source": []
  }
 ],
 "metadata": {
  "kernelspec": {
   "display_name": "Python 3",
   "language": "python",
   "name": "python3"
  },
  "language_info": {
   "codemirror_mode": {
    "name": "ipython",
    "version": 3
   },
   "file_extension": ".py",
   "mimetype": "text/x-python",
   "name": "python",
   "nbconvert_exporter": "python",
   "pygments_lexer": "ipython3",
   "version": "3.7.7"
  }
 },
 "nbformat": 4,
 "nbformat_minor": 5
}